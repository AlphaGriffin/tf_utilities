{
 "cells": [
  {
   "cell_type": "code",
   "execution_count": 1,
   "metadata": {
    "collapsed": false,
    "deletable": true,
    "editable": true,
    "scrolled": false
   },
   "outputs": [
    {
     "name": "stdout",
     "output_type": "stream",
     "text": [
      "Alpha Griffin TF_Curses Project\n"
     ]
    }
   ],
   "source": [
    "import build_network__\n",
    "net = build_network__.BuildModel(1,1,5) # not statuc can be reset"
   ]
  },
  {
   "cell_type": "code",
   "execution_count": 2,
   "metadata": {
    "collapsed": true,
    "deletable": true,
    "editable": true
   },
   "outputs": [],
   "source": [
    "import tensorflow as tf\n",
    "sess = tf.InteractiveSession()\n",
    "import numpy as np\n",
    "import os, sys, datetime"
   ]
  },
  {
   "cell_type": "code",
   "execution_count": 3,
   "metadata": {
    "collapsed": true,
    "deletable": true,
    "editable": true
   },
   "outputs": [],
   "source": [
    "import ag.logging as log\n",
    "log.set(5)"
   ]
  },
  {
   "cell_type": "code",
   "execution_count": 4,
   "metadata": {
    "collapsed": true,
    "deletable": true,
    "editable": true
   },
   "outputs": [],
   "source": [
    "# you need to know your dataset sizes to make the placeholders\n",
    "dataset_h = 66\n",
    "dataset_w = 200\n",
    "dataset_c = 3 \n",
    "dataset_classes = 5"
   ]
  },
  {
   "cell_type": "code",
   "execution_count": 5,
   "metadata": {
    "collapsed": false,
    "deletable": true,
    "editable": true
   },
   "outputs": [],
   "source": [
    "# get common stuff done\n",
    "input_tensor, \\\n",
    "label_tensor, \\\n",
    "learn_rate, \\\n",
    "keep_prob = net.build_inputs(dataset_h, \n",
    "                             dataset_w, \n",
    "                             dataset_c, \n",
    "                             dataset_classes\n",
    "                             )\n",
    "#print(\"# Built Input {}\".format(index))"
   ]
  },
  {
   "cell_type": "code",
   "execution_count": 6,
   "metadata": {
    "collapsed": false,
    "deletable": true,
    "editable": true
   },
   "outputs": [
    {
     "name": "stdout",
     "output_type": "stream",
     "text": [
      " ~D~ Start shape= Tensor(\"inputs/Placeholder:0\", shape=(?, 66, 200, 3), dtype=float32)\n",
      " #I# Building 1 Convolutional Layers\n",
      " ~D~ Current Num of Features= 16\n",
      " ~D~ Start shape= Tensor(\"inputs/Placeholder:0\", shape=(?, 66, 200, 3), dtype=float32)\n",
      " ~D~ Finished Building a conv Layer:\n",
      " ~ ~ \tTensor(\"conv_layers/Relu:0\", shape=(?, 66, 200, 16), dtype=float32)\n",
      " ~D~ Finishing Layer convLayer_0\n",
      " ~ ~ \tNew Features = 3\n",
      " #I# Finished Layer convLayer_0\n",
      " # # \tNew Features = 3\n",
      " #I# Finished Building 1 Conv Layers\n",
      " # # Moving To Flattening...\n",
      " #I# Tranitioning from Conv to fc layers... 16\n",
      " #I# Finished Flattening Layers\n",
      " #I# Building 1 Fully Connected Layers\n"
     ]
    }
   ],
   "source": [
    "# take the inputed variables and implement them\n",
    "# input , convs, fc's, output_classes, prob\n",
    "final_layer = net.build_outputs(input_tensor,\n",
    "                                1,\n",
    "                                1,\n",
    "                                5,\n",
    "                                keep_prob)"
   ]
  },
  {
   "cell_type": "code",
   "execution_count": 7,
   "metadata": {
    "collapsed": false,
    "deletable": true,
    "editable": true
   },
   "outputs": [
    {
     "name": "stdout",
     "output_type": "stream",
     "text": [
      "new test\n"
     ]
    }
   ],
   "source": [
    "train, loss, softmax = net.training_method(final_layer, label_tensor, learn_rate)"
   ]
  },
  {
   "cell_type": "code",
   "execution_count": null,
   "metadata": {
    "collapsed": false,
    "deletable": true,
    "editable": true
   },
   "outputs": [],
   "source": [
    "job_name = \"AlphaGriffin_TF_Server\"\n",
    "known_machines = []\n",
    "# this is another process... worker...\n",
    "known_machines.append('localhost:2222')\n",
    "# this is this process\n",
    "known_machines.append('localhost:2223')\n",
    "# known_machines.append( {'cool_name': ['sock_ip:port', 'localhost:2223']} )\n",
    "known_machines_dict = { '{}'.format(job_name): [x for x in known_machines] }\n",
    "len_machines = len(known_machines)\n",
    "print(\"There are {} known machines\".format(len_machines))\n",
    "print(known_machines_dict)"
   ]
  },
  {
   "cell_type": "code",
   "execution_count": null,
   "metadata": {
    "collapsed": false,
    "deletable": true,
    "editable": true
   },
   "outputs": [],
   "source": [
    "# cluster = tf.train.ClusterSpec(known_machines_dict)"
   ]
  },
  {
   "cell_type": "code",
   "execution_count": null,
   "metadata": {
    "collapsed": false,
    "deletable": true,
    "editable": true
   },
   "outputs": [],
   "source": [
    "# this is the HOME position... \"you are here\"\n",
    "#server = tf.train.Server(cluster,\n",
    "#                         job_name,\n",
    "#                         task_index=1) \n",
    "server = known_machines[0]\n",
    "print(server)"
   ]
  },
  {
   "cell_type": "code",
   "execution_count": null,
   "metadata": {
    "collapsed": true,
    "deletable": true,
    "editable": true
   },
   "outputs": [],
   "source": [
    "class data_prep(object):\n",
    "    def __init__(self, images, labels):\n",
    "        self.index_in_epoch = 0\n",
    "        self.num_examples = 0 \n",
    "        self.epochs_completed = 0\n",
    "        self.num_examples = 0\n",
    "        self.images = images\n",
    "        self.labels = labels\n",
    "        self.check_data()\n",
    "        \n",
    "    def check_data(self):\n",
    "        try:\n",
    "            assert self.images.shape[0] == self.labels.shape[0]\n",
    "        except Exception as e:\n",
    "            print(\"{} is not {}\".format(self.images.shape[0], self.labels.shape[0]))\n",
    "        self.num_examples = self.images.shape[0]\n",
    "        return True\n",
    "        \n",
    "\n",
    "    def next_batch(self, batch_size, shuffle=False):\n",
    "            \"\"\" Shuffle is off by default \"\"\"\n",
    "            start = self.index_in_epoch\n",
    "            self.index_in_epoch += batch_size\n",
    "            if self.index_in_epoch > self.num_examples:\n",
    "                # Finished epoch                                                                                       \n",
    "                self.epochs_completed += 1\n",
    "                # Shuffle the data                                                                                     \n",
    "                if shuffle:\n",
    "                    perm = np.arange(self.num_examples) # should add some sort of seeding for verification            \n",
    "                    np.random.shuffle(perm)\n",
    "                    self.images = self.images[perm]\n",
    "                    self.labels = self.labels[perm]\n",
    "                # Start next epoch                                                                                     \n",
    "                start = 0\n",
    "                self.index_in_epoch = batch_size\n",
    "                assert batch_size <= self.num_examples\n",
    "            end = self.index_in_epoch\n",
    "            return self.images[start:end], self.labels[start:end]"
   ]
  },
  {
   "cell_type": "code",
   "execution_count": null,
   "metadata": {
    "collapsed": false,
    "deletable": true,
    "editable": true
   },
   "outputs": [],
   "source": [
    "load = np.load(\"/pub/dataset/mario/mariokart64_dataset_0.npz\")\n",
    "imgs = load['images']\n",
    "labels = load['labels']\n",
    "dataset_examples = imgs.shape[0]\n",
    "dataset_h = imgs.shape[1]\n",
    "dataset_w = imgs.shape[2]\n",
    "dataset_c = imgs.shape[3]\n",
    "dataset_classes = labels.shape[1]\n",
    "dataset_shape = imgs[0].shape\n",
    "label_example = labels[0]"
   ]
  },
  {
   "cell_type": "code",
   "execution_count": null,
   "metadata": {
    "collapsed": false,
    "deletable": true,
    "editable": true
   },
   "outputs": [],
   "source": [
    "log.info(\"Images: {}\".format(imgs.shape))\n",
    "log.info(\"Labels: {}\".format(labels.shape))\n",
    "log.info(\"Image shape: {}\".format(dataset_shape))\n",
    "log.info(\"Label: {}\".format(label_example))"
   ]
  },
  {
   "cell_type": "code",
   "execution_count": null,
   "metadata": {
    "collapsed": false,
    "deletable": true,
    "editable": true
   },
   "outputs": [],
   "source": [
    "batcher = data_prep(imgs, labels)\n",
    "print(batcher.images.shape[:])\n",
    "test_batch = batcher.next_batch(50)\n",
    "print(test_batch[0].shape[:])"
   ]
  },
  {
   "cell_type": "code",
   "execution_count": null,
   "metadata": {
    "collapsed": false,
    "deletable": true,
    "editable": true
   },
   "outputs": [],
   "source": [
    "###### do a quick train and bail out for a solid save and reload...\n",
    "iters = 5\n",
    "batch_size = 100\n",
    "# with tf.Session(\"grpc://{}\".format(server)) as sess:\n",
    "# sess = tf.InteractiveSession()\n",
    "sess.run(tf.global_variables_initializer())\n",
    "for training_step in range(iters):\n",
    "    batch = batcher.next_batch(batch_size)\n",
    "    feed_dict = {input_tensor: batch[0], label_tensor: batch[1], keep_prob: 0.8}\n",
    "    sess.run(train, feed_dict=feed_dict)\n",
    "    print(\"Completed Step: {}\".format(training_step))\n",
    "    # if training_step % 25-1 == 0:\n",
    "    #    loss_value = loss.eval(feed_dict={input_tensor: batch[0], label_tensor: batch[1], keep_prob: 0.8})\n",
    "    #    print(\"step: {} loss: {}\".format(training_step, loss_value))"
   ]
  },
  {
   "cell_type": "code",
   "execution_count": null,
   "metadata": {
    "collapsed": false,
    "deletable": true,
    "editable": true
   },
   "outputs": [],
   "source": [
    "# for each worker/server/w/e in the KNOWN CLUSTER... so job name would be known here.\n",
    "#index = 0\n",
    "\"\"\"\n",
    "def build_graphs(num_conv, num_fc, num_outputs):\n",
    "    all_graphs = []\n",
    "    for index in range(len_machines):\n",
    "        current_context = tf.Graph()\n",
    "        current_worker = \"/job:{}/task:{}\".format(job_name, index)\n",
    "        print(\"With {} build graph {}\".format(current_worker, index))\n",
    "        with tf.device(tf.train.replica_device_setter(worker_device=current_worker,\n",
    "                                                      cluster=cluster)):\n",
    "            # get common stuff done\n",
    "            input_tensor, \\\n",
    "            label_tensor, \\\n",
    "            learn_rate, \\\n",
    "            keep_prob = net.build_inputs(dataset_h, \n",
    "                                         dataset_w, \n",
    "                                         dataset_c, \n",
    "                                         dataset_classes\n",
    "                                         )\n",
    "            print(\"# Built Input {}\".format(index))\n",
    "            \n",
    "            # take the inputed variables and implement them\n",
    "            x_image = net.build_outputs(input_tensor,\n",
    "                                        num_conv,\n",
    "                                        num_fc,\n",
    "                                        num_outputs,\n",
    "                                        keep_prob)\n",
    "            \n",
    "            print(\"# Built Output {}\".format(index))\n",
    "            \n",
    "            # build training ops\n",
    "            train_op, loss, softmax = net.training_method(x_image, \n",
    "                                                          input_label,\n",
    "                                                          learn_rate\n",
    "                                                          )\n",
    "            # Finished Building Graph            \n",
    "        all_graphs.append(current_context)\n",
    "    return all_graphs\n",
    "\"\"\""
   ]
  },
  {
   "cell_type": "code",
   "execution_count": null,
   "metadata": {
    "collapsed": true,
    "deletable": true,
    "editable": true
   },
   "outputs": [],
   "source": [
    "# mastergraph = build_graphs(5,5,5)\n",
    "# print(mastergraph)"
   ]
  }
 ],
 "metadata": {
  "kernelspec": {
   "display_name": "Python 3",
   "language": "python",
   "name": "python3"
  },
  "language_info": {
   "codemirror_mode": {
    "name": "ipython",
    "version": 3
   },
   "file_extension": ".py",
   "mimetype": "text/x-python",
   "name": "python",
   "nbconvert_exporter": "python",
   "pygments_lexer": "ipython3",
   "version": "3.6.0"
  }
 },
 "nbformat": 4,
 "nbformat_minor": 0
}
