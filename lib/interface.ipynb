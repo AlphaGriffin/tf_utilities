{
 "cells": [
  {
   "cell_type": "code",
   "execution_count": null,
   "metadata": {
    "collapsed": false,
    "deletable": true,
    "editable": true,
    "scrolled": false
   },
   "outputs": [],
   "source": [
    "import build_network__\n",
    "net = build_network__.BuildModel(1,1,5)"
   ]
  },
  {
   "cell_type": "code",
   "execution_count": null,
   "metadata": {
    "collapsed": true,
    "deletable": true,
    "editable": true
   },
   "outputs": [],
   "source": [
    "import tensorflow as tf\n",
    "import os, sys, datetime"
   ]
  },
  {
   "cell_type": "code",
   "execution_count": null,
   "metadata": {
    "collapsed": true,
    "deletable": true,
    "editable": true
   },
   "outputs": [],
   "source": [
    "# you need to know your dataset sizes to make the placeholders\n",
    "dataset_h = 66\n",
    "dataset_w = 200\n",
    "dataset_c = 3 \n",
    "dataset_classes = 5"
   ]
  },
  {
   "cell_type": "code",
   "execution_count": null,
   "metadata": {
    "collapsed": false,
    "deletable": true,
    "editable": true
   },
   "outputs": [],
   "source": [
    "job_name = \"AlphaGriffin_TF_Server\"\n",
    "known_machines = []\n",
    "# this is another process... worker...\n",
    "known_machines.append('localhost:2222')\n",
    "# this is this process\n",
    "known_machines.append('localhost:2223')\n",
    "#known_machines.append( {'cool_name': ['sock_ip:port', 'localhost:2223']} )\n",
    "known_machines_dict = { '{}'.format(job_name): [x for x in known_machines] }\n",
    "len_machines = len(known_machines)\n",
    "print(\"There are {} known machines\".format(len_machines))\n",
    "print(known_machines_dict)"
   ]
  },
  {
   "cell_type": "code",
   "execution_count": null,
   "metadata": {
    "collapsed": false,
    "deletable": true,
    "editable": true
   },
   "outputs": [],
   "source": [
    "cluster = tf.train.ClusterSpec(known_machines_dict)"
   ]
  },
  {
   "cell_type": "code",
   "execution_count": null,
   "metadata": {
    "collapsed": false,
    "deletable": true,
    "editable": true
   },
   "outputs": [],
   "source": [
    "# this is the HOME position... \"you are here\"\n",
    "server = tf.train.Server(cluster,\n",
    "                         job_name,\n",
    "                         task_index=1) "
   ]
  },
  {
   "cell_type": "code",
   "execution_count": null,
   "metadata": {
    "collapsed": true,
    "deletable": true,
    "editable": true
   },
   "outputs": [],
   "source": [
    "# for each worker/server/w/e in the KNOWN CLUSTER... so job name would be known here.\n",
    "#index = 0\n",
    "def build_graphs(num_conv, num_fc, num_outputs):\n",
    "    all_graphs = []\n",
    "    for index in range(len_machines):\n",
    "        current_context = tf.Graph()\n",
    "        current_worker = \"/job:{}/task:{}\".format(job_name, index)\n",
    "        print(\"With {} build graph {}\".format(current_worker, index))\n",
    "        with tf.device(tf.train.replica_device_setter(worker_device=current_worker,\n",
    "                                                      cluster=cluster)):\n",
    "            input_tensor, label_tensor, learn_rate = net.build_inputs(dataset_h, dataset_w, dataset_c, dataset_classes)\n",
    "            print(\"# Built Input\")\n",
    "            # take the inputed variables and implement them\n",
    "            # x_image = net.build_outputs(input_tensor,\n",
    "            #                            num_conv,\n",
    "            #                             num_fc,\n",
    "            #                             num_outputs)\n",
    "            # \n",
    "            # print(\"# Built Output\")\n",
    "            # x_image = net.BUILD_CONV_LAYERS()\n",
    "            \n",
    "        all_graphs.append(current_context)\n",
    "    return all_graphs"
   ]
  },
  {
   "cell_type": "code",
   "execution_count": null,
   "metadata": {
    "collapsed": false,
    "deletable": true,
    "editable": true,
    "scrolled": true
   },
   "outputs": [],
   "source": [
    "mastergraph = build_graphs(1,1,5)\n",
    "print(mastergraph)"
   ]
  },
  {
   "cell_type": "code",
   "execution_count": null,
   "metadata": {
    "collapsed": true,
    "deletable": true,
    "editable": true
   },
   "outputs": [],
   "source": []
  }
 ],
 "metadata": {
  "kernelspec": {
   "display_name": "Python 3",
   "language": "python",
   "name": "python3"
  },
  "language_info": {
   "codemirror_mode": {
    "name": "ipython",
    "version": 3
   },
   "file_extension": ".py",
   "mimetype": "text/x-python",
   "name": "python",
   "nbconvert_exporter": "python",
   "pygments_lexer": "ipython3",
   "version": "3.6.0"
  }
 },
 "nbformat": 4,
 "nbformat_minor": 2
}
